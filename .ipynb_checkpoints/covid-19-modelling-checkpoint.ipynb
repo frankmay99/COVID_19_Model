{
 "cells": [
  {
   "cell_type": "code",
   "execution_count": 1,
   "metadata": {},
   "outputs": [],
   "source": [
    "import numpy as np\n",
    "import pandas as pd\n",
    "import matplotlib.pyplot as plt"
   ]
  },
  {
   "attachments": {},
   "cell_type": "markdown",
   "metadata": {},
   "source": [
    "## Basic COVID-19 Modelling\n",
    "\n",
    "I recently spent a couple of days thinking about the mathematical underpinnings behind pathogenic growth, as I'm sure many people have recently. Despite no  research experience, I, like many others, have turned into an armchair epidemoilogical expert (not). As such, I thought it'd be interesting to take a mathematical, 'back-of-the-envelope' approach to modelling an outbreak, and what common-sensical factors to try and represent in my nascent model. \n",
    " \n",
    "In my mind, any model of pathogen spread, and its presupposed policy-response, must take three key concepts into account: reproduction, attempted containment, and mortality. Mounting evidence showing correlations between mortality and vaccinations with ethnicity and depravity [1] indicate that agent-based models capable of representing these heterogeneities will likely work very well in developing targeted policy-responses (such as local lockdowns). This type of model would also allow us to remove ourselves from using the imprecise  However, I have both very little experience and even less compute at my disposal to try and construct a good one. We'll stick to a simpler approach. \n",
    "\n",
    "Pathogenic replication, fission, [3], and aerosol contagion [4] boil down into an ‘R0’, denoting the mean number of new infections from one infector in a naïve population. This factor is crucial as the intensity and nature of a policy response will depend on this rate of spread of infection. Assuming *m* days that an individual in infectious after catching the illness, and only those currently infected can infect others, the daily rate of reproduction as a difference equation could be:\n",
    "\n",
    " $$q[t+1]-q[t]=\\frac{R 0}{m}(q[t]-q[t-m])$$\n",
    " \n",
    "Which will cause exponential growth in those infected. Accounting for a maximal population PopMax that can be infected:\n",
    "\n",
    "$$q[t+1]-q[t]=\\left(1-\\frac{q[t]}{\\operatorname{PopMax}}\\right)\\left(\\frac{R 0}{m}\\right)(q[t]-q[t-m])$$\n",
    " \n",
    "\n"
   ]
  },
  {
   "cell_type": "markdown",
   "metadata": {},
   "source": []
  },
  {
   "cell_type": "code",
   "execution_count": null,
   "metadata": {},
   "outputs": [],
   "source": []
  }
 ],
 "metadata": {
  "kernelspec": {
   "display_name": "Python 3",
   "language": "python",
   "name": "python3"
  },
  "language_info": {
   "codemirror_mode": {
    "name": "ipython",
    "version": 3
   },
   "file_extension": ".py",
   "mimetype": "text/x-python",
   "name": "python",
   "nbconvert_exporter": "python",
   "pygments_lexer": "ipython3",
   "version": "3.8.3"
  }
 },
 "nbformat": 4,
 "nbformat_minor": 4
}
